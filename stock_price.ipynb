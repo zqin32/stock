{
 "cells": [
  {
   "cell_type": "code",
   "execution_count": 5,
   "metadata": {},
   "outputs": [
    {
     "name": "stderr",
     "output_type": "stream",
     "text": [
      "/Users/zhen/anaconda3/lib/python3.6/site-packages/h5py/__init__.py:34: FutureWarning: Conversion of the second argument of issubdtype from `float` to `np.floating` is deprecated. In future, it will be treated as `np.float64 == np.dtype(float).type`.\n",
      "  from ._conv import register_converters as _register_converters\n",
      "Using TensorFlow backend.\n"
     ]
    },
    {
     "name": "stdout",
     "output_type": "stream",
     "text": [
      "Import all useful modules\n"
     ]
    }
   ],
   "source": [
    "import sys\n",
    "import numpy as np\n",
    "import matplotlib.pyplot as plt\n",
    "import pandas as pd\n",
    "from pandas import datetime\n",
    "import math, time\n",
    "import itertools\n",
    "from sklearn import preprocessing\n",
    "import datetime\n",
    "from operator import itemgetter\n",
    "from sklearn.metrics import mean_squared_error\n",
    "from math import sqrt\n",
    "from keras.models import Sequential\n",
    "from keras.layers.core import Dense, Dropout, Activation\n",
    "from keras.layers.recurrent import LSTM\n",
    "#import external pandas_datareader library with alias of web\n",
    "from pandas_datareader import data as pdr\n",
    "#import datetime internal datetime module\n",
    "#datetime is a Python module\n",
    "import datetime\n",
    "import fix_yahoo_finance\n",
    "import matplotlib.pyplot as plt2\n",
    "from keras.layers.advanced_activations import LeakyReLU\n",
    "\n",
    "\n",
    "sys.path\n",
    "sys.executable\n",
    "print(\"Import all useful modules\")"
   ]
  },
  {
   "cell_type": "markdown",
   "metadata": {},
   "source": [
    "Get the tesla price data from Yahoo finance as a CSV."
   ]
  },
  {
   "cell_type": "code",
   "execution_count": 6,
   "metadata": {
    "collapsed": true
   },
   "outputs": [],
   "source": [
    "def get_stock_data():   \n",
    "    data = pdr.get_data_yahoo('TSLA', start='2017-01-15', end='2019-03-08')\n",
    "#datetime.datetime is a data type within the datetime module\n",
    "    cols = ['Date', 'Open', 'High', 'Low', 'Close', 'Volume', 'Adj Close']\n",
    "    data.reindex(columns=cols)\n",
    "\n",
    "#invoke to_csv for df dataframe object from \n",
    "#DataReader method in the pandas_datareader library\n",
    " \n",
    "#..\\first_yahoo_prices_to_csv_demo.csv must not\n",
    "#be open in another app, such as Excel\n",
    "    data.to_csv('tesla.csv')\n",
    "    return data\n",
    "    \n"
   ]
  },
  {
   "cell_type": "code",
   "execution_count": 7,
   "metadata": {},
   "outputs": [
    {
     "name": "stdout",
     "output_type": "stream",
     "text": [
      "                  High         Low        Open       Close    Volume  \\\n",
      "Date                                                                   \n",
      "2017-01-17  239.960007  234.369995  236.699997  235.580002   4611900   \n",
      "2017-01-18  239.710007  235.580002  236.649994  238.360001   3769000   \n",
      "2017-01-19  248.679993  240.750000  247.250000  243.759995   7732300   \n",
      "2017-01-20  246.000000  243.009995  245.460007  244.729996   4204300   \n",
      "2017-01-23  250.889999  245.500000  245.850006  248.919998   6262900   \n",
      "2017-01-24  254.800003  249.649994  250.000000  254.610001   4965500   \n",
      "2017-01-25  258.459991  251.800003  257.309998  254.470001   5142600   \n",
      "2017-01-26  255.740005  250.750000  254.289993  252.509995   3152100   \n",
      "2017-01-27  253.000000  248.520004  251.380005  252.949997   3166300   \n",
      "2017-01-30  255.289993  247.100006  252.529999  250.630005   3801100   \n",
      "2017-01-31  255.889999  247.699997  249.240005  251.929993   4116100   \n",
      "2017-02-01  253.199997  249.050003  253.050003  249.240005   3958800   \n",
      "2017-02-02  252.419998  247.710007  248.339996  251.550003   2499800   \n",
      "2017-02-03  252.179993  249.679993  251.910004  251.330002   2186700   \n",
      "2017-02-06  257.820007  250.630005  251.000000  257.769989   3562500   \n",
      "2017-02-07  260.000000  256.420013  258.190002  257.480011   4244800   \n",
      "2017-02-08  263.359985  256.200012  257.350006  262.079987   3933000   \n",
      "2017-02-09  271.179993  266.149994  266.250000  269.200012   7820200   \n",
      "2017-02-10  270.950012  266.109985  269.790009  269.230011   3619700   \n",
      "2017-02-13  280.790009  270.510010  270.739990  280.600006   7029600   \n",
      "2017-02-14  287.390015  278.609985  279.029999  280.980011   7329400   \n",
      "2017-02-15  282.239990  276.440002  280.000000  279.760010   4947900   \n",
      "2017-02-16  280.000000  268.500000  277.600006  268.950012   7077300   \n",
      "2017-02-17  272.890015  264.149994  265.799988  272.230011   6257100   \n",
      "2017-02-21  281.399994  274.010010  275.450012  277.390015   5676700   \n",
      "2017-02-22  283.450012  272.600006  280.309998  273.510010   8755000   \n",
      "2017-02-23  264.660004  255.559998  264.000000  255.990005  14915200   \n",
      "2017-02-24  258.250000  250.199997  252.660004  257.000000   8171600   \n",
      "2017-02-27  248.360001  242.009995  248.169998  246.229996  11460800   \n",
      "2017-02-28  251.000000  243.899994  244.190002  249.990005   6078100   \n",
      "...                ...         ...         ...         ...       ...   \n",
      "2019-01-25  298.519989  289.549988  294.390015  297.040009   7249600   \n",
      "2019-01-28  297.459991  287.750000  292.910004  296.380005   6423300   \n",
      "2019-01-29  298.559998  291.799988  295.269989  297.459991   4621700   \n",
      "2019-01-30  309.000000  298.489990  300.450012  308.769989  11250300   \n",
      "2019-01-31  311.559998  294.000000  301.000000  307.019989  12569200   \n",
      "2019-02-01  316.100006  303.500000  305.420013  312.209991   7283400   \n",
      "2019-02-04  315.299988  301.880005  312.980011  312.890015   7352100   \n",
      "2019-02-05  322.440002  312.250000  312.489990  321.350006   6742800   \n",
      "2019-02-06  324.239990  315.619995  319.589996  317.220001   5038500   \n",
      "2019-02-07  314.700012  303.000000  313.299988  307.510010   6520600   \n",
      "2019-02-08  307.450012  298.500000  306.829987  305.799988   5844200   \n",
      "2019-02-11  318.600006  310.500000  311.600006  312.839996   7129700   \n",
      "2019-02-12  318.190002  309.619995  316.200012  311.809998   5517600   \n",
      "2019-02-13  312.750000  305.570007  312.350006  308.170013   5141600   \n",
      "2019-02-14  306.769989  301.000000  303.380005  303.769989   5200800   \n",
      "2019-02-15  308.000000  303.899994  304.500000  307.880005   3904900   \n",
      "2019-02-19  311.540009  305.470001  306.559998  305.640015   4168400   \n",
      "2019-02-20  306.299988  299.000000  304.410004  302.559998   7142100   \n",
      "2019-02-21  303.239990  290.500000  301.809998  291.230011   8909200   \n",
      "2019-02-22  296.500000  292.100006  294.489990  294.709991   5740600   \n",
      "2019-02-25  302.899994  297.000000  297.910004  298.769989   6626500   \n",
      "2019-02-26  302.010010  288.769989  292.220001  297.859985   8582500   \n",
      "2019-02-27  316.299988  300.549988  301.779999  314.739990  11183900   \n",
      "2019-02-28  320.000000  310.809998  318.920013  319.880005  10520700   \n",
      "2019-03-01  307.130005  291.899994  306.940002  294.790009  22911400   \n",
      "2019-03-04  299.000000  282.779999  298.119995  285.359985  17096800   \n",
      "2019-03-05  284.000000  270.100006  282.000000  276.540009  18764700   \n",
      "2019-03-06  281.510010  274.390015  276.480011  276.239990  10335500   \n",
      "2019-03-07  284.700012  274.250000  278.839996  276.589996   9442500   \n",
      "2019-03-08  285.589996  275.890015  276.910004  284.140015   8809500   \n",
      "\n",
      "             Adj Close  \n",
      "Date                    \n",
      "2017-01-17  235.580002  \n",
      "2017-01-18  238.360001  \n",
      "2017-01-19  243.759995  \n",
      "2017-01-20  244.729996  \n",
      "2017-01-23  248.919998  \n",
      "2017-01-24  254.610001  \n",
      "2017-01-25  254.470001  \n",
      "2017-01-26  252.509995  \n",
      "2017-01-27  252.949997  \n",
      "2017-01-30  250.630005  \n",
      "2017-01-31  251.929993  \n",
      "2017-02-01  249.240005  \n",
      "2017-02-02  251.550003  \n",
      "2017-02-03  251.330002  \n",
      "2017-02-06  257.769989  \n",
      "2017-02-07  257.480011  \n",
      "2017-02-08  262.079987  \n",
      "2017-02-09  269.200012  \n",
      "2017-02-10  269.230011  \n",
      "2017-02-13  280.600006  \n",
      "2017-02-14  280.980011  \n",
      "2017-02-15  279.760010  \n",
      "2017-02-16  268.950012  \n",
      "2017-02-17  272.230011  \n",
      "2017-02-21  277.390015  \n",
      "2017-02-22  273.510010  \n",
      "2017-02-23  255.990005  \n",
      "2017-02-24  257.000000  \n",
      "2017-02-27  246.229996  \n",
      "2017-02-28  249.990005  \n",
      "...                ...  \n",
      "2019-01-25  297.040009  \n",
      "2019-01-28  296.380005  \n",
      "2019-01-29  297.459991  \n",
      "2019-01-30  308.769989  \n",
      "2019-01-31  307.019989  \n",
      "2019-02-01  312.209991  \n",
      "2019-02-04  312.890015  \n",
      "2019-02-05  321.350006  \n",
      "2019-02-06  317.220001  \n",
      "2019-02-07  307.510010  \n",
      "2019-02-08  305.799988  \n",
      "2019-02-11  312.839996  \n",
      "2019-02-12  311.809998  \n",
      "2019-02-13  308.170013  \n",
      "2019-02-14  303.769989  \n",
      "2019-02-15  307.880005  \n",
      "2019-02-19  305.640015  \n",
      "2019-02-20  302.559998  \n",
      "2019-02-21  291.230011  \n",
      "2019-02-22  294.709991  \n",
      "2019-02-25  298.769989  \n",
      "2019-02-26  297.859985  \n",
      "2019-02-27  314.739990  \n",
      "2019-02-28  319.880005  \n",
      "2019-03-01  294.790009  \n",
      "2019-03-04  285.359985  \n",
      "2019-03-05  276.540009  \n",
      "2019-03-06  276.239990  \n",
      "2019-03-07  276.589996  \n",
      "2019-03-08  284.140015  \n",
      "\n",
      "[539 rows x 6 columns]\n"
     ]
    }
   ],
   "source": [
    "\n",
    "data = get_stock_data()\n",
    "print(data)"
   ]
  },
  {
   "cell_type": "markdown",
   "metadata": {},
   "source": [
    "Take a look at the data we got, it contains date, open price, high, low, close price, volumn and adjusted-close price"
   ]
  },
  {
   "cell_type": "code",
   "execution_count": 8,
   "metadata": {},
   "outputs": [
    {
     "name": "stdout",
     "output_type": "stream",
     "text": [
      "Date\n",
      "2017-01-17    235.580002\n",
      "2017-01-18    238.360001\n",
      "2017-01-19    243.759995\n",
      "2017-01-20    244.729996\n",
      "2017-01-23    248.919998\n",
      "2017-01-24    254.610001\n",
      "2017-01-25    254.470001\n",
      "2017-01-26    252.509995\n",
      "2017-01-27    252.949997\n",
      "2017-01-30    250.630005\n",
      "2017-01-31    251.929993\n",
      "2017-02-01    249.240005\n",
      "2017-02-02    251.550003\n",
      "2017-02-03    251.330002\n",
      "2017-02-06    257.769989\n",
      "2017-02-07    257.480011\n",
      "2017-02-08    262.079987\n",
      "2017-02-09    269.200012\n",
      "2017-02-10    269.230011\n",
      "2017-02-13    280.600006\n",
      "2017-02-14    280.980011\n",
      "2017-02-15    279.760010\n",
      "2017-02-16    268.950012\n",
      "2017-02-17    272.230011\n",
      "2017-02-21    277.390015\n",
      "2017-02-22    273.510010\n",
      "2017-02-23    255.990005\n",
      "2017-02-24    257.000000\n",
      "2017-02-27    246.229996\n",
      "2017-02-28    249.990005\n",
      "                 ...    \n",
      "2019-01-25    297.040009\n",
      "2019-01-28    296.380005\n",
      "2019-01-29    297.459991\n",
      "2019-01-30    308.769989\n",
      "2019-01-31    307.019989\n",
      "2019-02-01    312.209991\n",
      "2019-02-04    312.890015\n",
      "2019-02-05    321.350006\n",
      "2019-02-06    317.220001\n",
      "2019-02-07    307.510010\n",
      "2019-02-08    305.799988\n",
      "2019-02-11    312.839996\n",
      "2019-02-12    311.809998\n",
      "2019-02-13    308.170013\n",
      "2019-02-14    303.769989\n",
      "2019-02-15    307.880005\n",
      "2019-02-19    305.640015\n",
      "2019-02-20    302.559998\n",
      "2019-02-21    291.230011\n",
      "2019-02-22    294.709991\n",
      "2019-02-25    298.769989\n",
      "2019-02-26    297.859985\n",
      "2019-02-27    314.739990\n",
      "2019-02-28    319.880005\n",
      "2019-03-01    294.790009\n",
      "2019-03-04    285.359985\n",
      "2019-03-05    276.540009\n",
      "2019-03-06    276.239990\n",
      "2019-03-07    276.589996\n",
      "2019-03-08    284.140015\n",
      "Name: Close, Length: 539, dtype: float64\n"
     ]
    }
   ],
   "source": [
    "df = data[['Open', 'High','Volume','Close']].astype(float)\n",
    "y = data['Close'].astype(float)\n",
    "print(y)\n"
   ]
  },
  {
   "cell_type": "markdown",
   "metadata": {},
   "source": [
    "\n",
    "Normalizing"
   ]
  },
  {
   "cell_type": "code",
   "execution_count": 9,
   "metadata": {
    "collapsed": true
   },
   "outputs": [],
   "source": [
    "def standard(l):\n",
    "    maxx = max(l)\n",
    "    minn = min(l)\n",
    "    #print(\"maxx\",maxx)\n",
    "    #print(\"minn\",minn)\n",
    "    l = (l-minn)/(maxx-minn)\n",
    "    return l\n",
    "    "
   ]
  },
  {
   "cell_type": "code",
   "execution_count": 10,
   "metadata": {},
   "outputs": [
    {
     "name": "stdout",
     "output_type": "stream",
     "text": [
      "385.0\n",
      "235.5800018310547\n"
     ]
    }
   ],
   "source": [
    "\n",
    "df['Open'] = standard(df['Open'])\n",
    "df['High'] = standard(df['High'])\n",
    "df['Volume'] = standard(df['Volume'])\n",
    "df['Close'] = standard(df['Close'])\n",
    "\n",
    "maxx = float(max(y))\n",
    "minn = float(min(y))\n",
    "print(maxx)\n",
    "print(minn)\n",
    "\n",
    "\n"
   ]
  },
  {
   "cell_type": "code",
   "execution_count": 24,
   "metadata": {},
   "outputs": [],
   "source": [
    "#Load the data\n",
    "def load_data(stock, seq_len):\n",
    "    amount_of_features = len(stock.columns)\n",
    "    print(amount_of_features)\n",
    "    data = stock.as_matrix() #pd.DataFrame(stock)\n",
    "    sequence_length = seq_len + 1\n",
    "    result = []\n",
    "    for index in range(len(data) - sequence_length):\n",
    "        result.append(data[index: index + sequence_length])\n",
    "\n",
    "    result = np.array(result)\n",
    "    #print(result.shape)\n",
    "    row = round(0.7 * result.shape[0])\n",
    "    #print(\"row\",row)\n",
    "    train = result[:int(row), :]\n",
    "    x_train = train[:, :-1]\n",
    "    y_train = train[:, -1][:,-1]\n",
    "    x_test = result[int(row):, :-1]\n",
    "    y_test = result[int(row):, -1][:,-1]\n",
    "    \n",
    "    #print(x_train.shape)\n",
    "    #print(y_train)\n",
    "    #print(x_test.shape)\n",
    "    print(y_test)\n",
    "    \n",
    "    # reshape input to be [samples, time steps, features]\n",
    "    x_train = np.reshape(x_train, (x_train.shape[0], x_train.shape[1], amount_of_features))\n",
    "    x_test = np.reshape(x_test, (x_test.shape[0], x_test.shape[1], amount_of_features))  \n",
    "\n",
    "    return [x_train, y_train, x_test, y_test]"
   ]
  },
  {
   "cell_type": "code",
   "execution_count": 25,
   "metadata": {
    "collapsed": true
   },
   "outputs": [],
   "source": [
    "#Build the model\n",
    "def build_model(layers):\n",
    "    model = Sequential()\n",
    "    model.add(LSTM(200, activation='tanh', input_shape=(layers[0], layers[1])))\n",
    "    model.add(Dropout(0.2))\n",
    "    \n",
    "    model.add(LSTM(200, activation='tanh', input_shape=(layers[0],layers[1],layers[2]),return_sequences=False))\n",
    "    model.add(Dropout(0.2))\n",
    "    \n",
    "    model.add(Dense(100, activation='relu'))\n",
    "    model.add(Dense(n_outputs))\n",
    "    model.compile(loss='mse', optimizer='rmsprop',metrics=['accuracy'])\n",
    "    print(\"Compilation Time : \", time.time() - start)\n",
    "    return model\n",
    "\n",
    "\n",
    "def build_model2(layers):\n",
    "        d = 0.2\n",
    "        model = Sequential()\n",
    "        model.add(LSTM(128, input_shape=(layers[1], layers[0]), return_sequences=True))\n",
    "        model.add(Dropout(d))\n",
    "        model.add(LSTM(64, input_shape=(layers[1], layers[0]), return_sequences=False))\n",
    "        model.add(Dropout(d))\n",
    "        model.add(Dense(16,kernel_initializer='uniform',activation='tanh'))        \n",
    "        model.add(Dense(1,kernel_initializer='uniform',activation='tanh'))\n",
    "        model.compile(loss='mse',optimizer='adam',metrics=['accuracy'])\n",
    "        return model"
   ]
  },
  {
   "cell_type": "markdown",
   "metadata": {},
   "source": [
    "split train and test dataset"
   ]
  },
  {
   "cell_type": "code",
   "execution_count": 61,
   "metadata": {},
   "outputs": [
    {
     "name": "stdout",
     "output_type": "stream",
     "text": [
      "4\n",
      "[0.76301697 0.80190064 0.80524691 0.78704318 0.74809252 0.73671532\n",
      " 0.7527104  0.78537005 0.78429921 0.70787047 0.68451335 0.74876182\n",
      " 0.77861071 0.85216171 0.84827992 0.85811797 0.81843123 0.80190064\n",
      " 0.85631106 0.86762148 0.80036148 0.81200645 0.74628561 0.60440379\n",
      " 0.56210686 0.58820774 0.6658413  0.66175874 0.72460183 0.69615852\n",
      " 0.71570063 0.62120194 0.63137473 0.60018745 0.6201311  0.56210686\n",
      " 0.61705259 0.5878062  0.62869755 0.61330478 0.53854897 0.51960916\n",
      " 0.49022879 0.61243472 0.78329537 0.84346128 0.83770579 0.90791052\n",
      " 0.84854768 0.94973892 0.98962664 0.98400472 0.94244408 0.91460307\n",
      " 0.89827324 0.90898135 0.93534999 0.97095438 0.93943255 0.82606083\n",
      " 0.81475041 0.89961183 0.83034395 0.78483473 0.74782497 0.69783165\n",
      " 0.7013117  0.70559503 0.66604207 0.59938438 0.54376915 0.49953152\n",
      " 0.45696683 0.50040159 0.50361388 0.51853833 0.47202506 0.54497396\n",
      " 0.53741135 0.59717572 0.58573153 0.59991969 0.57341727 0.47925312\n",
      " 0.4870165  0.4007495  0.50488548 0.55755598 0.58392441 0.52529786\n",
      " 0.4888904  0.49919698 0.52342396 0.48487483 0.468612   0.44793206\n",
      " 0.46807648 0.43280685 0.44077099 0.45790389 0.40998524 0.48942572\n",
      " 0.51405444 0.44813283 0.42243348 0.39767099 0.45589621 0.42122867\n",
      " 0.28590541 0.28336242 0.27974838 0.28021691 0.23182974 0.18458039\n",
      " 0.12849684 0.13003609 0.10105736 0.1762817  0.17347074 0.17715156\n",
      " 0.13485473 0.15004684 0.07087402 0.05427654 0.06237446 0.07555878\n",
      " 0.08706997 0.1046045  0.10701382 0.09971887 0.09664036 0.09643959\n",
      " 0.07127556 0.14335429 0.13659486 0.25384827 0.27981537 0.24528182\n",
      " 0.22333028 0.29567667 0.30384159 0.30129839 0.22520419 0.22500342\n",
      " 0.17735233 0.14656679 0.14850748 0.10540758 0.10687995 0.09142018\n",
      " 0.10942304 0.10072282 0.11624947 0.11330473 0.12642216 0.12735912\n",
      " 0.08927852 0.06123674 0.05474497 0.01860527]\n"
     ]
    }
   ],
   "source": [
    "window = 5\n",
    "trainX, trainY, testX, testY = load_data(df[::-1], window)\n",
    "#print(\"X_train\", X_train.shape)\n",
    "#print(\"y_train\", y_train.shape)\n",
    "#print(\"X_test\", X_test.shape)\n",
    "#print(\"y_test\", y_test.shape)\n",
    "#print(X_train)\n",
    "\n"
   ]
  },
  {
   "cell_type": "code",
   "execution_count": 83,
   "metadata": {},
   "outputs": [
    {
     "name": "stdout",
     "output_type": "stream",
     "text": [
      "Train on 335 samples, validate on 38 samples\n",
      "Epoch 1/20\n",
      "335/335 [==============================] - 4s 13ms/step - loss: 0.3263 - acc: 0.0000e+00 - val_loss: 0.6169 - val_acc: 0.0000e+00\n",
      "Epoch 2/20\n",
      "335/335 [==============================] - 0s 124us/step - loss: 0.3237 - acc: 0.0000e+00 - val_loss: 0.6111 - val_acc: 0.0000e+00\n",
      "Epoch 3/20\n",
      "335/335 [==============================] - 0s 120us/step - loss: 0.3201 - acc: 0.0000e+00 - val_loss: 0.6053 - val_acc: 0.0000e+00\n",
      "Epoch 4/20\n",
      "335/335 [==============================] - 0s 115us/step - loss: 0.3166 - acc: 0.0000e+00 - val_loss: 0.5990 - val_acc: 0.0000e+00\n",
      "Epoch 5/20\n",
      "335/335 [==============================] - 0s 117us/step - loss: 0.3129 - acc: 0.0000e+00 - val_loss: 0.5920 - val_acc: 0.0000e+00\n",
      "Epoch 6/20\n",
      "335/335 [==============================] - 0s 123us/step - loss: 0.3086 - acc: 0.0000e+00 - val_loss: 0.5839 - val_acc: 0.0000e+00\n",
      "Epoch 7/20\n",
      "335/335 [==============================] - 0s 119us/step - loss: 0.3036 - acc: 0.0000e+00 - val_loss: 0.5745 - val_acc: 0.0000e+00\n",
      "Epoch 8/20\n",
      "335/335 [==============================] - 0s 119us/step - loss: 0.2984 - acc: 0.0000e+00 - val_loss: 0.5634 - val_acc: 0.0000e+00\n",
      "Epoch 9/20\n",
      "335/335 [==============================] - 0s 114us/step - loss: 0.2915 - acc: 0.0000e+00 - val_loss: 0.5499 - val_acc: 0.0000e+00\n",
      "Epoch 10/20\n",
      "335/335 [==============================] - 0s 111us/step - loss: 0.2837 - acc: 0.0000e+00 - val_loss: 0.5336 - val_acc: 0.0000e+00\n",
      "Epoch 11/20\n",
      "335/335 [==============================] - 0s 114us/step - loss: 0.2746 - acc: 0.0000e+00 - val_loss: 0.5141 - val_acc: 0.0000e+00\n",
      "Epoch 12/20\n",
      "335/335 [==============================] - 0s 116us/step - loss: 0.2633 - acc: 0.0000e+00 - val_loss: 0.4907 - val_acc: 0.0000e+00\n",
      "Epoch 13/20\n",
      "335/335 [==============================] - 0s 109us/step - loss: 0.2495 - acc: 0.0000e+00 - val_loss: 0.4627 - val_acc: 0.0000e+00\n",
      "Epoch 14/20\n",
      "335/335 [==============================] - 0s 114us/step - loss: 0.2335 - acc: 0.0000e+00 - val_loss: 0.4298 - val_acc: 0.0000e+00\n",
      "Epoch 15/20\n",
      "335/335 [==============================] - 0s 111us/step - loss: 0.2152 - acc: 0.0000e+00 - val_loss: 0.3919 - val_acc: 0.0000e+00\n",
      "Epoch 16/20\n",
      "335/335 [==============================] - 0s 114us/step - loss: 0.1933 - acc: 0.0000e+00 - val_loss: 0.3489 - val_acc: 0.0000e+00\n",
      "Epoch 17/20\n",
      "335/335 [==============================] - 0s 113us/step - loss: 0.1690 - acc: 0.0000e+00 - val_loss: 0.3026 - val_acc: 0.0000e+00\n",
      "Epoch 18/20\n",
      "335/335 [==============================] - 0s 123us/step - loss: 0.1433 - acc: 0.0000e+00 - val_loss: 0.2545 - val_acc: 0.0000e+00\n",
      "Epoch 19/20\n",
      "335/335 [==============================] - 0s 115us/step - loss: 0.1154 - acc: 0.0000e+00 - val_loss: 0.2069 - val_acc: 0.0000e+00\n",
      "Epoch 20/20\n",
      "335/335 [==============================] - 0s 108us/step - loss: 0.0877 - acc: 0.0000e+00 - val_loss: 0.1634 - val_acc: 0.0000e+00\n"
     ]
    },
    {
     "data": {
      "text/plain": [
       "<keras.callbacks.History at 0x1a450c8ef0>"
      ]
     },
     "execution_count": 83,
     "metadata": {},
     "output_type": "execute_result"
    }
   ],
   "source": [
    "model = build_model2([4,window,1])\n",
    "model.fit( trainX,trainY,batch_size=512,epochs=20,validation_split=0.1,verbose=1)\n"
   ]
  },
  {
   "cell_type": "code",
   "execution_count": 84,
   "metadata": {},
   "outputs": [
    {
     "name": "stdout",
     "output_type": "stream",
     "text": [
      "Train Score: 0.07 MSE (0.27 RMSE)\n",
      "Test Score: 0.07 MSE (0.27 RMSE)\n"
     ]
    }
   ],
   "source": [
    "trainScore = model.evaluate(trainX, trainY, verbose=0)\n",
    "print('Train Score: %.2f MSE (%.2f RMSE)' % (trainScore[0], math.sqrt(trainScore[0])))\n",
    "\n",
    "testScore = model.evaluate(testX, testY, verbose=0)\n",
    "print('Test Score: %.2f MSE (%.2f RMSE)' % (testScore[0], math.sqrt(testScore[0])))"
   ]
  },
  {
   "cell_type": "code",
   "execution_count": 88,
   "metadata": {},
   "outputs": [
    {
     "name": "stdout",
     "output_type": "stream",
     "text": [
      "                     0\n",
      "Date                  \n",
      "2018-07-19  294.552460\n",
      "2018-07-20  293.645874\n",
      "2018-07-23  292.696442\n",
      "2018-07-24  293.074341\n",
      "2018-07-25  293.216400\n",
      "2018-07-26  293.530029\n",
      "2018-07-27  293.498474\n",
      "2018-07-30  293.203644\n",
      "2018-07-31  292.760895\n",
      "2018-08-01  292.585632\n",
      "2018-08-02  292.815338\n",
      "2018-08-03  293.056763\n",
      "2018-08-06  292.880615\n",
      "2018-08-07  292.481842\n",
      "2018-08-08  292.484344\n",
      "2018-08-09  293.399475\n",
      "2018-08-10  294.360291\n",
      "2018-08-13  294.948059\n",
      "2018-08-14  295.190735\n",
      "2018-08-15  295.209534\n",
      "2018-08-16  295.281830\n",
      "2018-08-17  295.141449\n",
      "2018-08-20  295.440826\n",
      "2018-08-21  295.408020\n",
      "2018-08-22  294.782043\n",
      "2018-08-23  293.654572\n",
      "2018-08-24  292.670135\n",
      "2018-08-27  291.145599\n",
      "2018-08-28  289.393463\n",
      "2018-08-29  289.752289\n",
      "...                ...\n",
      "2019-01-25  257.886597\n",
      "2019-01-28  258.443756\n",
      "2019-01-29  258.459839\n",
      "2019-01-30  258.783142\n",
      "2019-01-31  259.289764\n",
      "2019-02-01  260.353333\n",
      "2019-02-04  261.803894\n",
      "2019-02-05  264.735992\n",
      "2019-02-06  267.861176\n",
      "2019-02-07  270.576385\n",
      "2019-02-08  271.905670\n",
      "2019-02-11  271.280151\n",
      "2019-02-12  271.180573\n",
      "2019-02-13  272.228882\n",
      "2019-02-14  272.380859\n",
      "2019-02-15  271.419952\n",
      "2019-02-19  268.857697\n",
      "2019-02-20  266.147736\n",
      "2019-02-21  264.642670\n",
      "2019-02-22  261.769043\n",
      "2019-02-25  260.430359\n",
      "2019-02-26  259.264801\n",
      "2019-02-27  258.483276\n",
      "2019-02-28  258.742767\n",
      "2019-03-01  259.206299\n",
      "2019-03-04  259.533478\n",
      "2019-03-05  259.690033\n",
      "2019-03-06  259.862976\n",
      "2019-03-07  260.050079\n",
      "2019-03-08  259.831573\n",
      "\n",
      "[160 rows x 1 columns]\n"
     ]
    },
    {
     "data": {
      "text/plain": [
       "<Figure size 1440x720 with 0 Axes>"
      ]
     },
     "metadata": {},
     "output_type": "display_data"
    },
    {
     "data": {
      "image/png": "[encoded data removed]",
      "text/plain": [
       "<Figure size 1440x720 with 1 Axes>"
      ]
     },
     "metadata": {},
     "output_type": "display_data"
    }
   ],
   "source": [
    "          \n",
    "prediction = model.predict(testX,verbose=0)\n",
    "\n",
    "#print(prediction)\n",
    "ind = y.index[-len(testY):]\n",
    "\n",
    "Y_pred = pd.DataFrame(prediction*(maxx-minn)+minn)\n",
    "Y_pred.set_index(ind, inplace=True, drop=True)\n",
    "\n",
    "Y_act = pd.DataFrame(y[-len(testY):])\n",
    "Y_act.set_index(ind, inplace=True, drop=True)\n",
    "print(Y_pred)\n",
    "plt2.figure(figsize=(20,10))\n",
    "plt2.plot(Y_pred,color='red', label='prediction')\n",
    "plt2.plot(Y_act,color='blue', label='y_test')\n",
    "plt2.legend(loc='upper left')\n",
    "plt2.show()\n",
    "\n"
   ]
  },
  {
   "cell_type": "code",
   "execution_count": null,
   "metadata": {
    "collapsed": true
   },
   "outputs": [],
   "source": []
  },
  {
   "cell_type": "code",
   "execution_count": null,
   "metadata": {
    "collapsed": true
   },
   "outputs": [],
   "source": []
  },
  {
   "cell_type": "code",
   "execution_count": null,
   "metadata": {
    "collapsed": true
   },
   "outputs": [],
   "source": []
  }
 ],
 "metadata": {
  "kernelspec": {
   "display_name": "Python 3",
   "language": "python",
   "name": "python3"
  },
  "language_info": {
   "codemirror_mode": {
    "name": "ipython",
    "version": 3
   },
   "file_extension": ".py",
   "mimetype": "text/x-python",
   "name": "python",
   "nbconvert_exporter": "python",
   "pygments_lexer": "ipython3",
   "version": "3.6.3"
  }
 },
 "nbformat": 4,
 "nbformat_minor": 2
}
